{
 "cells": [
  {
   "cell_type": "markdown",
   "id": "05e6c367",
   "metadata": {},
   "source": [
    "## Practical Exercise 2\n",
    "\n",
    "#### Weighting: 10%\n",
    "#### Total Mark: 10 Marks"
   ]
  },
  {
   "cell_type": "markdown",
   "id": "80a33c84",
   "metadata": {},
   "source": [
    "To get full marks for this Practical Exercise, you need to pay attention to the following:\n",
    "    \n",
    "- Ensure your code works\n",
    "\n",
    "- There is no error when running the program and the output correct.\n",
    "\n",
    "- Good coding style (such as proper comments- don't ovderdo this!).\n"
   ]
  },
  {
   "cell_type": "markdown",
   "id": "f1cffc1b",
   "metadata": {},
   "source": [
    "#### Dataset\n",
    "\n",
    "The toy dataset is available to download from Moodle (toys.csv). It comprises four features: color, size, firmness, and age, along with a class label indicating whether it is expensive or not (T for true or F for false). \n",
    "You are required to use this dataset to explore the functionality of a decision tree algorithm."
   ]
  },
  {
   "cell_type": "code",
   "execution_count": 6,
   "id": "dfc3085f",
   "metadata": {},
   "outputs": [
    {
     "data": {
      "text/html": [
       "<style>.prompt{width: 0px; min-width: 0px; visibility: collapse}</style>"
      ],
      "text/plain": [
       "<IPython.core.display.HTML object>"
      ]
     },
     "metadata": {},
     "output_type": "display_data"
    }
   ],
   "source": [
    "import warnings\n",
    "warnings.filterwarnings('ignore')\n",
    "\n",
    "from IPython.core.display import display,HTML\n",
    "display(HTML('<style>.prompt{width: 0px; min-width: 0px; visibility: collapse}</style>'))"
   ]
  },
  {
   "cell_type": "markdown",
   "id": "da3ff2dd",
   "metadata": {},
   "source": [
    "Since the we need to start with importing modules and respective libraries, here we go "
   ]
  },
  {
   "cell_type": "code",
   "execution_count": 3,
   "id": "cskDbV1n9Iak",
   "metadata": {
    "id": "cskDbV1n9Iak"
   },
   "outputs": [],
   "source": [
    "# load the neccessary libraries and load the dataset\n",
    "# You code below: (1 mark)\n",
    "import pandas as pd\n",
    "from sklearn.model_selection import train_test_split\n",
    "from sklearn.tree import DecisionTreeClassifier\n",
    "from sklearn.metrics import accuracy_score, confusion_matrix\n",
    "import matplotlib.pyplot as plt\n",
    "from sklearn.tree import plot_tree\n",
    "\n",
    "# Load the dataset\n",
    "data = pd.read_csv(\"toys.csv\")\n"
   ]
  },
  {
   "cell_type": "markdown",
   "id": "14916a2a",
   "metadata": {},
   "source": [
    "Now so we convert cat data into int representations below: "
   ]
  },
  {
   "cell_type": "code",
   "execution_count": 18,
   "id": "c0595b63",
   "metadata": {
    "id": "c0595b63"
   },
   "outputs": [],
   "source": [
    "# convert categorical data to integer representations of unique categories (integer encoding)\n",
    "# You code below: (1 mark)\n",
    "\n",
    "data['color'] = data['color'].astype('category').cat.codes\n",
    "data['size'] = data['size'].astype('category').cat.codes\n",
    "data['firmness'] = data['firmness'].astype('category').cat.codes\n",
    "data['age'] = data['age'].astype('category').cat.codes\n"
   ]
  },
  {
   "cell_type": "markdown",
   "id": "c1af8ea9",
   "metadata": {},
   "source": [
    "very improtant step to split data into features and labels"
   ]
  },
  {
   "cell_type": "code",
   "execution_count": null,
   "id": "6fa36446",
   "metadata": {},
   "outputs": [],
   "source": [
    "# split the data into features (X) and labels (y)\n",
    "# You code below: (1 mark)\n",
    "\n",
    "X = data.drop('expensive', axis=1)\n",
    "y = data['expensive']\n",
    "\n",
    "\n",
    "# split the data into training and testing sets.Specify 70% of the data to be used for training\n",
    "# You code below: (1 mark)\n",
    "\n",
    "X_train, X_test, y_train, y_test = train_test_split(X, y, test_size=0.3, random_state=42)\n",
    "\n"
   ]
  },
  {
   "cell_type": "markdown",
   "id": "c677884b",
   "metadata": {},
   "source": [
    "Here we now should train the DT model"
   ]
  },
  {
   "cell_type": "code",
   "execution_count": 1,
   "id": "tGSQNnYx8scw",
   "metadata": {
    "colab": {
     "base_uri": "https://localhost:8080/"
    },
    "id": "tGSQNnYx8scw",
    "outputId": "f7b434d2-a37c-4060-f35e-af753bd9730f"
   },
   "outputs": [],
   "source": [
    "# train a decision tree classifier model.\n",
    "# You code below: (2 marks)\n",
    "\n",
    "clf = DecisionTreeClassifier()\n",
    "clf.fit(X_train, y_train)\n"
   ]
  },
  {
   "cell_type": "markdown",
   "id": "0b7e7e6b",
   "metadata": {},
   "source": [
    "Make use of test data for evaluation perfromance"
   ]
  },
  {
   "cell_type": "code",
   "execution_count": null,
   "id": "04358e9d",
   "metadata": {},
   "outputs": [],
   "source": [
    "# evaluates the performance of a trained decision tree classifier model using test data\n",
    "# Print the accuracy_score\n",
    "# Print the confusion_matrix\n",
    "# You code below: (2 marks)\n",
    "\n",
    "y_pred = clf.predict(X_test)\n",
    "accuracy = accuracy_score(y_test, y_pred)\n",
    "conf_matrix = confusion_matrix(y_test, y_pred)\n",
    "\n",
    "# Print the accuracy_score\n",
    "print(\"Accuracy:\", accuracy)\n",
    "\n",
    "# Print the confusion_matrix\n",
    "print(\"Confusion Matrix:\")\n",
    "print(conf_matrix)\n"
   ]
  },
  {
   "cell_type": "markdown",
   "id": "7f16d710",
   "metadata": {},
   "source": [
    "Next We plot DT. Lets go"
   ]
  },
  {
   "cell_type": "code",
   "execution_count": 2,
   "id": "13BaHP3S83Dh",
   "metadata": {
    "colab": {
     "base_uri": "https://localhost:8080/",
     "height": 36
    },
    "id": "13BaHP3S83Dh",
    "outputId": "3c0ed991-405c-41df-e358-ef50cb07b6ef"
   },
   "outputs": [],
   "source": [
    "# plot the decision tree\n",
    "# You code below: (2 marks)\n",
    "\n",
    "# Plot the decision tree\n",
    "plt.figure(figsize=(15,10))\n",
    "plot_tree(clf, filled=True, feature_names=X.columns, class_names=['False', 'True'])\n",
    "plt.show()\n"
   ]
  },
  {
   "cell_type": "markdown",
   "id": "ca9128c7",
   "metadata": {},
   "source": [
    "Student Name: Kushal Pokhrel\n",
    "ID: 230259"
   ]
  }
 ],
 "metadata": {
  "colab": {
   "provenance": []
  },
  "kernelspec": {
   "display_name": "Python 3 (ipykernel)",
   "language": "python",
   "name": "python3"
  },
  "language_info": {
   "codemirror_mode": {
    "name": "ipython",
    "version": 3
   },
   "file_extension": ".py",
   "mimetype": "text/x-python",
   "name": "python",
   "nbconvert_exporter": "python",
   "pygments_lexer": "ipython3",
   "version": "3.10.9"
  }
 },
 "nbformat": 4,
 "nbformat_minor": 5
}
